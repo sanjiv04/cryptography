{
 "cells": [
  {
   "cell_type": "code",
   "execution_count": 42,
   "metadata": {},
   "outputs": [
    {
     "name": "stdout",
     "output_type": "stream",
     "text": [
      "Plaintext:  ATTACK\n",
      "Paired text:  ['AT', 'TA', 'CK']\n",
      "Encrypted text:  FKMTIKFKMTIK\n"
     ]
    }
   ],
   "source": [
    "# Implementation of Hill Cipher \n",
    "key = [[2, 3], [1, 6]]  # considering 2x2 key matrix\n",
    "alphabets = \"ABCDEFGHIJKLMNOPQRSTUVWXYZ\"\n",
    "\n",
    "paired_letters = []\n",
    "\n",
    "def pair(message):\n",
    "    i=0\n",
    "    while i<= len(message)-1:\n",
    "        j=0\n",
    "        pair = ''\n",
    "        while j<2:\n",
    "            pair += message[i]\n",
    "            i+=1\n",
    "            j+=1\n",
    "        paired_letters.append(pair) \n",
    "    return paired_letters    \n",
    "        \n",
    "\n",
    "def multiply_matrices(matrix_a, matrix_b):\n",
    "\n",
    "  # multiplying matrices only if they are compatible\n",
    "  rows_a, cols_a = len(matrix_a), len(matrix_a[0])\n",
    "  rows_b, cols_b = len(matrix_b), len(matrix_b[0])\n",
    "  if cols_a == rows_b:\n",
    "    product_matrix = [[0 for _ in range(cols_b)] for _ in range(rows_a)]\n",
    "\n",
    "  # matrix multiplication\n",
    "    for i in range(rows_a):\n",
    "        for j in range(cols_b):\n",
    "            for k in range(cols_a):\n",
    "                product_matrix[i][j] += matrix_a[i][k] * matrix_b[k][j]\n",
    "\n",
    "    return product_matrix\n",
    "        \n",
    "\n",
    "def encrypt(pair):\n",
    "    vector = []\n",
    "    for l in pair:\n",
    "        vector.append([alphabets.find(l)])\n",
    "        \n",
    "    result = multiply_matrices(key, vector)  \n",
    "    encrypted_pair = []\n",
    "    i=0\n",
    "    for _ in result:\n",
    "        encrypted_pair.append(alphabets[result[i][0]% len(alphabets)])\n",
    "        i+=1\n",
    "    \n",
    "    return encrypted_pair\n",
    "\n",
    "\n",
    "message = \"ATTACK\"\n",
    "cipher = []\n",
    "print(\"Plaintext: \", message)\n",
    "print(\"Paired text: \", pair(message))\n",
    "\n",
    "for p in pair(message):\n",
    "    cipher.append(encrypt(p))\n",
    "\n",
    "# coverting list form of cipher into string\n",
    "cipher_text = ''\n",
    "for p in cipher:\n",
    "    for t in p:\n",
    "        cipher_text +=t    \n",
    "\n",
    "print(\"Encrypted text: \", cipher_text)   \n",
    "\n",
    "\n",
    "# Issue: Duplication of paired_letters \n"
   ]
  }
 ],
 "metadata": {
  "kernelspec": {
   "display_name": "Python 3",
   "language": "python",
   "name": "python3"
  },
  "language_info": {
   "codemirror_mode": {
    "name": "ipython",
    "version": 3
   },
   "file_extension": ".py",
   "mimetype": "text/x-python",
   "name": "python",
   "nbconvert_exporter": "python",
   "pygments_lexer": "ipython3",
   "version": "3.11.8"
  }
 },
 "nbformat": 4,
 "nbformat_minor": 2
}
