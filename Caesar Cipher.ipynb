{
 "cells": [
  {
   "cell_type": "code",
   "execution_count": 5,
   "id": "d7e9a44a-a15d-4c61-b0a6-385b84d0bfde",
   "metadata": {},
   "outputs": [
    {
     "name": "stdout",
     "output_type": "stream",
     "text": [
      "Encrypted text:  DQW\n",
      "Decrypted text:  ANT\n"
     ]
    }
   ],
   "source": [
    "import string\n",
    "\n",
    "key = 3\n",
    "message = \"ANT\"\n",
    "\n",
    "alphabets = {}\n",
    "for i, char in enumerate(string.ascii_uppercase):\n",
    "    alphabets[char] = i\n",
    "\n",
    "def encrypt(message):\n",
    "    cipher = \"\"\n",
    "    for c in message:\n",
    "        e = (alphabets[c] + key)%len(alphabets)\n",
    "        for char, value in alphabets.items():\n",
    "            if value==e:\n",
    "                cipher+=char\n",
    "    return cipher  \n",
    "\n",
    "def decrypt(cipherText):\n",
    "    plainText = \"\" \n",
    "    for c in cipherText:\n",
    "        d = (alphabets[c]-key)%len(alphabets)\n",
    "        for char, value in alphabets.items():\n",
    "            if value==d:\n",
    "                plainText+=char\n",
    "    return plainText  \n",
    "         \n",
    "\n",
    "print(\"Encrypted text: \", encrypt(message))\n",
    "print(\"Decrypted text: \", decrypt(encrypt(message)))"
   ]
  }
 ],
 "metadata": {
  "kernelspec": {
   "display_name": "Python 3 (ipykernel)",
   "language": "python",
   "name": "python3"
  },
  "language_info": {
   "codemirror_mode": {
    "name": "ipython",
    "version": 3
   },
   "file_extension": ".py",
   "mimetype": "text/x-python",
   "name": "python",
   "nbconvert_exporter": "python",
   "pygments_lexer": "ipython3",
   "version": "3.11.8"
  }
 },
 "nbformat": 4,
 "nbformat_minor": 5
}
