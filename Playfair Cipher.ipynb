{
 "cells": [
  {
   "cell_type": "code",
   "execution_count": 12,
   "metadata": {},
   "outputs": [
    {
     "name": "stdout",
     "output_type": "stream",
     "text": [
      "['BA', 'LL', 'OO']\n"
     ]
    }
   ],
   "source": [
    "mat = [[0 for _ in range(5)] for _ in range(5)]\n",
    "\n",
    "keyword = \"MONARCHY\"\n",
    "alphabets = \"ABCDEFGHIJKLMNOPQRSTUVWXYZ\"\n",
    "\n",
    "unique_char = ['' for _ in range(len(keyword))]\n",
    "repeated_char = ['' for _ in range(len(keyword))]\n",
    "\n",
    "\n",
    "# removing duplicte letters from keyword \n",
    "i, j=0, 0\n",
    "for k in keyword:\n",
    "    if k not in unique_char:\n",
    "        unique_char[i] = k\n",
    "        repeated_char[i] = k\n",
    "        i+=1\n",
    "\n",
    "# removing '' from unique_char\n",
    "new_unique_char = [0 for _ in range(len(unique_char)-unique_char.count(''))]\n",
    "i=0\n",
    "for k in unique_char:\n",
    "    if k!='':\n",
    "        new_unique_char[i] = k\n",
    "        i+=1        \n",
    "\n",
    "\n",
    "updated_alpha = ['' for _ in range(len(alphabets)-len(new_unique_char))]\n",
    "i=0\n",
    "for c in alphabets:\n",
    "    if c not in unique_char:\n",
    "        updated_alpha[i] = c\n",
    "        i+=1        \n",
    "\n",
    "\n",
    "# filling the matrix row-wise\n",
    "i, j = 0, 0\n",
    "all_chars = new_unique_char+updated_alpha\n",
    "for char in all_chars:\n",
    "    if char!='J':\n",
    "        mat[i][j] = char\n",
    "        j += 1\n",
    "        if j == 5:\n",
    "            i += 1\n",
    "            j = 0\n",
    "\n",
    "\n",
    "plainText = \"BALLOON\"\n",
    "letter_pairs = []\n",
    "\n",
    "i=0\n",
    "while(i<len(plainText)-1):\n",
    "    pair = plainText[i] + plainText[i+1]\n",
    "    \n",
    "    letter_pairs.append(pair)\n",
    "\n",
    "print(letter_pairs)     \n",
    "\n",
    "\n",
    "\n",
    "\n"
   ]
  }
 ],
 "metadata": {
  "kernelspec": {
   "display_name": "Python 3",
   "language": "python",
   "name": "python3"
  },
  "language_info": {
   "codemirror_mode": {
    "name": "ipython",
    "version": 3
   },
   "file_extension": ".py",
   "mimetype": "text/x-python",
   "name": "python",
   "nbconvert_exporter": "python",
   "pygments_lexer": "ipython3",
   "version": "3.11.8"
  }
 },
 "nbformat": 4,
 "nbformat_minor": 2
}
