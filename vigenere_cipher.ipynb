{
 "cells": [
  {
   "cell_type": "code",
   "execution_count": 7,
   "metadata": {},
   "outputs": [
    {
     "name": "stdout",
     "output_type": "stream",
     "text": [
      "Plaintext:  ATTACK\n",
      "Encrypted text:  ALFTCC\n",
      "Decrypted text:  ATTACK\n"
     ]
    }
   ],
   "source": [
    "plaintext = \"ATTACK\"\n",
    "key = \"ASMT\"\n",
    "alpha = \"ABCDEFGHIJKLMNOPQRSTUVWXYZ\"\n",
    "\n",
    "def adjust_key():\n",
    "    new_key = key\n",
    "    if(len(key)< len(plaintext)):\n",
    "        i = len(key)\n",
    "        idx = 0\n",
    "        while i<len(plaintext):\n",
    "            charIdx = idx%len(key)\n",
    "            new_key +=key[charIdx]\n",
    "            idx+=1\n",
    "            i+=1\n",
    "    return new_key\n",
    "\n",
    "def encrypt():\n",
    "    en_text = ''\n",
    "    for i in range(len(plaintext)):\n",
    "        char = alpha[((alpha.find(plaintext[i])+alpha.find(new_key[i]))%len(alpha))]\n",
    "        en_text+=char \n",
    "    return en_text      \n",
    "\n",
    "def decrypt():\n",
    "    dcr_text = ''\n",
    "    for i in range(len(encrypted_text)):\n",
    "        char = alpha[((alpha.find(encrypted_text[i])-alpha.find(new_key[i]))%len(alpha))]\n",
    "        dcr_text+=char \n",
    "    return dcr_text        \n",
    "\n",
    "new_key = adjust_key() \n",
    "encrypted_text = encrypt()\n",
    "decrypted_text = decrypt()   \n",
    "\n",
    "print(\"Plaintext: \", plaintext)\n",
    "print(\"Encrypted text: \", encrypted_text)\n",
    "print(\"Decrypted text: \", decrypted_text)"
   ]
  }
 ],
 "metadata": {
  "kernelspec": {
   "display_name": "Python 3",
   "language": "python",
   "name": "python3"
  },
  "language_info": {
   "codemirror_mode": {
    "name": "ipython",
    "version": 3
   },
   "file_extension": ".py",
   "mimetype": "text/x-python",
   "name": "python",
   "nbconvert_exporter": "python",
   "pygments_lexer": "ipython3",
   "version": "3.11.8"
  }
 },
 "nbformat": 4,
 "nbformat_minor": 2
}
